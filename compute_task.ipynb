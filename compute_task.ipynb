{
  "nbformat": 4,
  "nbformat_minor": 0,
  "metadata": {
    "colab": {
      "provenance": []
    },
    "kernelspec": {
      "name": "python3",
      "display_name": "Python 3"
    },
    "language_info": {
      "name": "python"
    }
  },
  "cells": [
    {
      "cell_type": "code",
      "source": [
        "import numpy as np\n",
        "list = []\n",
        "N = int(input(\"Enter number of students\"))\n",
        "X = int(input(\"Enter number of subjects\"))\n",
        "for i in range(0,N):\n",
        "  for j in range(0,X):\n",
        "    x = float(input(\"Enter subject %1d marks of student %2d \" % (j+1,i+1) ))\n",
        "    list.append(x)"
      ],
      "metadata": {
        "colab": {
          "base_uri": "https://localhost:8080/"
        },
        "id": "h13Nut88_9gz",
        "outputId": "6ba18ed8-7bfb-48dd-b82c-fba2f5420493"
      },
      "execution_count": null,
      "outputs": [
        {
          "name": "stdout",
          "output_type": "stream",
          "text": [
            "Enter number of students5\n",
            "Enter number of subjects3\n",
            "Enter subject 1 marks of student  1 89\n",
            "Enter subject 2 marks of student  1 90\n",
            "Enter subject 3 marks of student  1 91\n",
            "Enter subject 1 marks of student  2 90\n",
            "Enter subject 2 marks of student  2 91\n",
            "Enter subject 3 marks of student  2 92\n",
            "Enter subject 1 marks of student  3 78\n",
            "Enter subject 2 marks of student  3 85\n",
            "Enter subject 3 marks of student  3 83\n",
            "Enter subject 1 marks of student  4 93\n",
            "Enter subject 2 marks of student  4 88\n",
            "Enter subject 3 marks of student  4 89\n",
            "Enter subject 1 marks of student  5 80\n",
            "Enter subject 2 marks of student  5 86\n",
            "Enter subject 3 marks of student  5 90.5\n"
          ]
        }
      ]
    },
    {
      "cell_type": "code",
      "source": [
        "arr = np.array(list)\n",
        "arr1 = arr.reshape(N,X)\n",
        "avg = np.mean(arr1 , axis = 1)\n",
        "for i in range(0,N):\n",
        "  print(\"%5.2f\" % (avg[i]))\n"
      ],
      "metadata": {
        "colab": {
          "base_uri": "https://localhost:8080/"
        },
        "id": "IkGgjd8CD-Bz",
        "outputId": "bbfc275d-7b08-4ed4-8e66-8f70189bafd4"
      },
      "execution_count": null,
      "outputs": [
        {
          "output_type": "stream",
          "name": "stdout",
          "text": [
            "90.00\n",
            "91.00\n",
            "82.00\n",
            "90.00\n",
            "85.50\n"
          ]
        }
      ]
    },
    {
      "cell_type": "markdown",
      "source": [
        "Question 2"
      ],
      "metadata": {
        "id": "VXNycLijXLoY"
      }
    },
    {
      "cell_type": "code",
      "source": [
        "commands = []\n",
        "N = int(input(\"Enter number of commands\"))\n",
        "for i in range(0,N):\n",
        "  x = input(\"Enter command\")\n",
        "  commands.append(x)\n",
        "  \n"
      ],
      "metadata": {
        "id": "RFIMhLsJkIGK"
      },
      "execution_count": null,
      "outputs": []
    },
    {
      "cell_type": "code",
      "source": [
        "list = []\n",
        "for x in commands:\n",
        "  res = x.split()\n",
        "  if res[0] == 'insert':\n",
        "    list.insert(int(res[1]), int(res[2]))\n",
        "  elif res[0] == 'print':\n",
        "    print(list)\n",
        "  elif res[0] == 'remove':\n",
        "    list.remove(int(res[1]))\n",
        "  elif res[0] == 'append':\n",
        "    list.append(int(res[1]))\n",
        "  elif res[0] == 'sort':\n",
        "    list.sort()\n",
        "  elif res[0] == 'pop':\n",
        "    list.pop(-1)\n",
        "  elif res[0] == 'reverse':\n",
        "    list.reverse()\n",
        "    "
      ],
      "metadata": {
        "id": "pqJ95_bdpoR9"
      },
      "execution_count": null,
      "outputs": []
    },
    {
      "cell_type": "markdown",
      "source": [
        "Question 3"
      ],
      "metadata": {
        "id": "88NjB_Z8uxLJ"
      }
    },
    {
      "cell_type": "code",
      "source": [
        "list = []\n",
        "mydict = {}\n",
        "n = int(input(\"Enter number of students \"))\n",
        "\n",
        "\n",
        "for i in range(0,n):\n",
        "  x = input(\"Enter name of student followed by marks \")\n",
        "  list = x.split()\n",
        "  mydict[list[0]] = list[1::]\n",
        "\n",
        "query_name = input(\"Enter name of student jiska average\")\n",
        "marks = [int(i) for i in mydict.get(query_name)]\n",
        "print(\"Average: \", sum(marks)/len(marks))"
      ],
      "metadata": {
        "colab": {
          "base_uri": "https://localhost:8080/"
        },
        "id": "fH8uV2f_uyCp",
        "outputId": "7da83a0e-d872-47ad-b132-71e52e58f0f0"
      },
      "execution_count": null,
      "outputs": [
        {
          "output_type": "stream",
          "name": "stdout",
          "text": [
            "Enter number of students 3\n",
            "Enter name of student followed by marks Krishna 67 68 69\n",
            "Enter name of student followed by marks Arjun 70 98 63\n",
            "Enter name of student followed by marks Malika 52 56 60\n",
            "Enter name of student jiska averageMalika\n",
            "Average:  56.0\n"
          ]
        }
      ]
    },
    {
      "cell_type": "markdown",
      "source": [
        "Question 5"
      ],
      "metadata": {
        "id": "GlgezBBfwzB0"
      }
    },
    {
      "cell_type": "code",
      "source": [
        "def mutate_string(s , i, c):\n",
        "  l = list(s)\n",
        "  l[i] = c\n",
        "  return ''.join(l)\n",
        "\n",
        "n = input()\n",
        "x = n.split()\n",
        "print(mutate_string(x[0], int(x[1]), x[2]))\n"
      ],
      "metadata": {
        "colab": {
          "base_uri": "https://localhost:8080/"
        },
        "id": "F_CRNHgZu3Mi",
        "outputId": "6751884f-7a2a-4f18-b131-fc6cb5659d6c"
      },
      "execution_count": null,
      "outputs": [
        {
          "output_type": "stream",
          "name": "stdout",
          "text": [
            "abracadabra 5 k\n",
            "abrackdabra\n"
          ]
        }
      ]
    },
    {
      "cell_type": "markdown",
      "source": [
        "Question 6"
      ],
      "metadata": {
        "id": "ES-jb6LNyFh8"
      }
    },
    {
      "cell_type": "code",
      "source": [
        "x = (input(\"Enter elements of list \"))\n",
        "list = x.split()\n",
        "list1 = [int(i) for i in list]\n",
        "assert list[0] == list[-1] , 'Not same'\n",
        "print(\"Same\")\n",
        "\n",
        "\n"
      ],
      "metadata": {
        "colab": {
          "base_uri": "https://localhost:8080/",
          "height": 252
        },
        "id": "4IjOnYzHw09x",
        "outputId": "0b00879f-8253-4b14-fdaf-5dbf79b4daed"
      },
      "execution_count": null,
      "outputs": [
        {
          "name": "stdout",
          "output_type": "stream",
          "text": [
            "Enter elements of list 10 20 30 40 50\n"
          ]
        },
        {
          "output_type": "error",
          "ename": "AssertionError",
          "evalue": "ignored",
          "traceback": [
            "\u001b[0;31m---------------------------------------------------------------------------\u001b[0m",
            "\u001b[0;31mAssertionError\u001b[0m                            Traceback (most recent call last)",
            "\u001b[0;32m<ipython-input-3-49652e26fa4b>\u001b[0m in \u001b[0;36m<module>\u001b[0;34m\u001b[0m\n\u001b[1;32m      2\u001b[0m \u001b[0mlist\u001b[0m \u001b[0;34m=\u001b[0m \u001b[0mx\u001b[0m\u001b[0;34m.\u001b[0m\u001b[0msplit\u001b[0m\u001b[0;34m(\u001b[0m\u001b[0;34m)\u001b[0m\u001b[0;34m\u001b[0m\u001b[0;34m\u001b[0m\u001b[0m\n\u001b[1;32m      3\u001b[0m \u001b[0mlist1\u001b[0m \u001b[0;34m=\u001b[0m \u001b[0;34m[\u001b[0m\u001b[0mint\u001b[0m\u001b[0;34m(\u001b[0m\u001b[0mi\u001b[0m\u001b[0;34m)\u001b[0m \u001b[0;32mfor\u001b[0m \u001b[0mi\u001b[0m \u001b[0;32min\u001b[0m \u001b[0mlist\u001b[0m\u001b[0;34m]\u001b[0m\u001b[0;34m\u001b[0m\u001b[0;34m\u001b[0m\u001b[0m\n\u001b[0;32m----> 4\u001b[0;31m \u001b[0;32massert\u001b[0m \u001b[0mlist\u001b[0m\u001b[0;34m[\u001b[0m\u001b[0;36m0\u001b[0m\u001b[0;34m]\u001b[0m \u001b[0;34m==\u001b[0m \u001b[0mlist\u001b[0m\u001b[0;34m[\u001b[0m\u001b[0;34m-\u001b[0m\u001b[0;36m1\u001b[0m\u001b[0;34m]\u001b[0m \u001b[0;34m,\u001b[0m \u001b[0;34m'Not same'\u001b[0m\u001b[0;34m\u001b[0m\u001b[0;34m\u001b[0m\u001b[0m\n\u001b[0m\u001b[1;32m      5\u001b[0m \u001b[0mprint\u001b[0m\u001b[0;34m(\u001b[0m\u001b[0;34m\"Same\"\u001b[0m\u001b[0;34m)\u001b[0m\u001b[0;34m\u001b[0m\u001b[0;34m\u001b[0m\u001b[0m\n\u001b[1;32m      6\u001b[0m \u001b[0;34m\u001b[0m\u001b[0m\n",
            "\u001b[0;31mAssertionError\u001b[0m: Not same"
          ]
        }
      ]
    },
    {
      "cell_type": "markdown",
      "source": [
        "Question 7"
      ],
      "metadata": {
        "id": "uavK4-kRyHKY"
      }
    },
    {
      "cell_type": "code",
      "source": [
        "for i in range(0,5):\n",
        "  for j in range(0, i+1):\n",
        "    print(i+1,end =\" \")\n",
        "  print()"
      ],
      "metadata": {
        "colab": {
          "base_uri": "https://localhost:8080/"
        },
        "id": "Pwh5imUxxqja",
        "outputId": "b65e7c23-670b-4650-9899-7bfb24b03c5e"
      },
      "execution_count": null,
      "outputs": [
        {
          "output_type": "stream",
          "name": "stdout",
          "text": [
            "1 \n",
            "2 2 \n",
            "3 3 3 \n",
            "4 4 4 4 \n",
            "5 5 5 5 5 \n"
          ]
        }
      ]
    },
    {
      "cell_type": "markdown",
      "source": [
        "Question 4(Almost entirely copied but understood it)"
      ],
      "metadata": {
        "id": "l6ljrxPryyyd"
      }
    },
    {
      "cell_type": "code",
      "source": [
        "list = []\n",
        "n = int(input())\n",
        "for i in range(0,n):\n",
        "   x = input()\n",
        "   list.append(x)\n",
        "def fun(s):\n",
        "  try:\n",
        "    name, url = s.split('@')\n",
        "    website, extension = url.split('.')\n",
        "\n",
        "  except ValueError:\n",
        "    return False\n",
        "  \n",
        "  if name.replace('_','').replace('-','').isalnum() is False:\n",
        "    return False\n",
        "  elif website.alnum() is False:\n",
        "    return False\n",
        "  elif len(extension) > 3:\n",
        "    return False\n",
        "  else: \n",
        "    return True\n",
        "  \n",
        "def filter_mail(lists):\n",
        "    return(list(filter(fun, lists)))\n",
        "\n",
        "filtered_emails = filter_mail(list)\n",
        "filtered_emails.sort()\n",
        "filtered_emails  "
      ],
      "metadata": {
        "id": "xKeOxpvVyPF5"
      },
      "execution_count": null,
      "outputs": []
    }
  ]
}